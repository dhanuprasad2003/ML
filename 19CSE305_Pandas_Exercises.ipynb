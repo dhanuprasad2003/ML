{
  "cells": [
    {
      "cell_type": "markdown",
      "metadata": {
        "id": "wXpLoNd4JTPX"
      },
      "source": [
        "# 19CSE305 ML - Pandas Exercise Questions - 30th Sep 2022"
      ]
    },
    {
      "cell_type": "markdown",
      "metadata": {
        "id": "QjNltmkhJTPe"
      },
      "source": [
        "### Task 1. Go to https://www.kaggle.com/openfoodfacts/world-food-facts/data"
      ]
    },
    {
      "cell_type": "markdown",
      "metadata": {
        "id": "eNMKFph_JTPf"
      },
      "source": [
        "### Task 2. Download the dataset to your computer and unzip it."
      ]
    },
    {
      "cell_type": "markdown",
      "metadata": {
        "id": "dCpvoHymJTPg"
      },
      "source": [
        "### Task 3. Use the tsv file and assign it to a dataframe called food"
      ]
    },
    {
      "cell_type": "code",
      "execution_count": 43,
      "metadata": {
        "collapsed": true,
        "id": "2I70ttuxJTPh"
      },
      "outputs": [],
      "source": [
        "import pandas as pd\n",
        "import numpy as np\n",
        "df1=pd.read_csv(r\"C:\\Users\\DHANUPRASAD\\OneDrive - Amrita Vishwa Vidyapeetham\\Documents\\sem-5\\ml\\lab\\Real estate.csv\")"
      ]
    },
    {
      "cell_type": "markdown",
      "metadata": {
        "id": "g_lvc5V_JTPi"
      },
      "source": [
        "### Task 4. See the first 5 entries"
      ]
    },
    {
      "cell_type": "code",
      "execution_count": 14,
      "metadata": {
        "collapsed": true,
        "id": "6ztWFksJJTPj"
      },
      "outputs": [
        {
          "data": {
            "text/html": [
              "<div>\n",
              "<style scoped>\n",
              "    .dataframe tbody tr th:only-of-type {\n",
              "        vertical-align: middle;\n",
              "    }\n",
              "\n",
              "    .dataframe tbody tr th {\n",
              "        vertical-align: top;\n",
              "    }\n",
              "\n",
              "    .dataframe thead th {\n",
              "        text-align: right;\n",
              "    }\n",
              "</style>\n",
              "<table border=\"1\" class=\"dataframe\">\n",
              "  <thead>\n",
              "    <tr style=\"text-align: right;\">\n",
              "      <th></th>\n",
              "      <th>No</th>\n",
              "      <th>X1 transaction date</th>\n",
              "      <th>X2 house age</th>\n",
              "      <th>X3 distance to the nearest MRT station</th>\n",
              "      <th>X4 number of convenience stores</th>\n",
              "      <th>X5 latitude</th>\n",
              "      <th>X6 longitude</th>\n",
              "      <th>Y house price of unit area</th>\n",
              "    </tr>\n",
              "  </thead>\n",
              "  <tbody>\n",
              "    <tr>\n",
              "      <th>0</th>\n",
              "      <td>1</td>\n",
              "      <td>2012.917</td>\n",
              "      <td>32.0</td>\n",
              "      <td>84.87882</td>\n",
              "      <td>10</td>\n",
              "      <td>24.98298</td>\n",
              "      <td>121.54024</td>\n",
              "      <td>37.9</td>\n",
              "    </tr>\n",
              "    <tr>\n",
              "      <th>1</th>\n",
              "      <td>2</td>\n",
              "      <td>2012.917</td>\n",
              "      <td>19.5</td>\n",
              "      <td>306.59470</td>\n",
              "      <td>9</td>\n",
              "      <td>24.98034</td>\n",
              "      <td>121.53951</td>\n",
              "      <td>42.2</td>\n",
              "    </tr>\n",
              "    <tr>\n",
              "      <th>2</th>\n",
              "      <td>3</td>\n",
              "      <td>2013.583</td>\n",
              "      <td>13.3</td>\n",
              "      <td>561.98450</td>\n",
              "      <td>5</td>\n",
              "      <td>24.98746</td>\n",
              "      <td>121.54391</td>\n",
              "      <td>47.3</td>\n",
              "    </tr>\n",
              "    <tr>\n",
              "      <th>3</th>\n",
              "      <td>4</td>\n",
              "      <td>2013.500</td>\n",
              "      <td>13.3</td>\n",
              "      <td>561.98450</td>\n",
              "      <td>5</td>\n",
              "      <td>24.98746</td>\n",
              "      <td>121.54391</td>\n",
              "      <td>54.8</td>\n",
              "    </tr>\n",
              "    <tr>\n",
              "      <th>4</th>\n",
              "      <td>5</td>\n",
              "      <td>2012.833</td>\n",
              "      <td>5.0</td>\n",
              "      <td>390.56840</td>\n",
              "      <td>5</td>\n",
              "      <td>24.97937</td>\n",
              "      <td>121.54245</td>\n",
              "      <td>43.1</td>\n",
              "    </tr>\n",
              "  </tbody>\n",
              "</table>\n",
              "</div>"
            ],
            "text/plain": [
              "   No  X1 transaction date  X2 house age  \\\n",
              "0   1             2012.917          32.0   \n",
              "1   2             2012.917          19.5   \n",
              "2   3             2013.583          13.3   \n",
              "3   4             2013.500          13.3   \n",
              "4   5             2012.833           5.0   \n",
              "\n",
              "   X3 distance to the nearest MRT station  X4 number of convenience stores  \\\n",
              "0                                84.87882                               10   \n",
              "1                               306.59470                                9   \n",
              "2                               561.98450                                5   \n",
              "3                               561.98450                                5   \n",
              "4                               390.56840                                5   \n",
              "\n",
              "   X5 latitude  X6 longitude  Y house price of unit area  \n",
              "0     24.98298     121.54024                        37.9  \n",
              "1     24.98034     121.53951                        42.2  \n",
              "2     24.98746     121.54391                        47.3  \n",
              "3     24.98746     121.54391                        54.8  \n",
              "4     24.97937     121.54245                        43.1  "
            ]
          },
          "execution_count": 14,
          "metadata": {},
          "output_type": "execute_result"
        }
      ],
      "source": [
        "df1.head(5)"
      ]
    },
    {
      "cell_type": "markdown",
      "metadata": {
        "id": "TEQadnU5JTPj"
      },
      "source": [
        "### Task 5. What is the number of observations in the dataset?"
      ]
    },
    {
      "cell_type": "code",
      "execution_count": 15,
      "metadata": {
        "collapsed": true,
        "id": "MNyiWgA2JTPk"
      },
      "outputs": [
        {
          "data": {
            "text/plain": [
              "414"
            ]
          },
          "execution_count": 15,
          "metadata": {},
          "output_type": "execute_result"
        }
      ],
      "source": [
        "len(df1)"
      ]
    },
    {
      "cell_type": "markdown",
      "metadata": {
        "id": "UKAKOwM8JTPl"
      },
      "source": [
        "### Task 6. What is the number of columns in the dataset?"
      ]
    },
    {
      "cell_type": "code",
      "execution_count": 16,
      "metadata": {
        "collapsed": true,
        "id": "yT0aYBICJTPl"
      },
      "outputs": [
        {
          "data": {
            "text/plain": [
              "8"
            ]
          },
          "execution_count": 16,
          "metadata": {},
          "output_type": "execute_result"
        }
      ],
      "source": [
        "col=len(df1.axes[1])\n",
        "col"
      ]
    },
    {
      "cell_type": "markdown",
      "metadata": {
        "id": "PRhgfbSlJTPl"
      },
      "source": [
        "### Task 7. Print the name of all the columns."
      ]
    },
    {
      "cell_type": "code",
      "execution_count": 17,
      "metadata": {
        "collapsed": true,
        "id": "6lfUgbbqJTPm"
      },
      "outputs": [
        {
          "data": {
            "text/plain": [
              "Index(['No', 'X1 transaction date', 'X2 house age',\n",
              "       'X3 distance to the nearest MRT station',\n",
              "       'X4 number of convenience stores', 'X5 latitude', 'X6 longitude',\n",
              "       'Y house price of unit area'],\n",
              "      dtype='object')"
            ]
          },
          "execution_count": 17,
          "metadata": {},
          "output_type": "execute_result"
        }
      ],
      "source": [
        "df1.axes[1]"
      ]
    },
    {
      "cell_type": "markdown",
      "metadata": {
        "id": "6sp6dOJ7JTPm"
      },
      "source": [
        "### Task 8. What is the name of 105th column?"
      ]
    },
    {
      "cell_type": "code",
      "execution_count": 20,
      "metadata": {
        "collapsed": true,
        "id": "pH2eoXf6JTPm"
      },
      "outputs": [
        {
          "data": {
            "text/plain": [
              "No                                         106.00000\n",
              "X1 transaction date                       2012.83300\n",
              "X2 house age                                 0.00000\n",
              "X3 distance to the nearest MRT station     292.99780\n",
              "X4 number of convenience stores              6.00000\n",
              "X5 latitude                                 24.97744\n",
              "X6 longitude                               121.54458\n",
              "Y house price of unit area                  71.00000\n",
              "Name: 105, dtype: float64"
            ]
          },
          "execution_count": 20,
          "metadata": {},
          "output_type": "execute_result"
        }
      ],
      "source": [
        "z=df1.iloc[105]\n",
        "z"
      ]
    },
    {
      "cell_type": "markdown",
      "metadata": {
        "id": "4iagES7XJTPn"
      },
      "source": [
        "### Task 9. What is the type of the observations of the 105th column?"
      ]
    },
    {
      "cell_type": "code",
      "execution_count": 21,
      "metadata": {
        "collapsed": true,
        "id": "RD0UgGTDJTPn"
      },
      "outputs": [
        {
          "data": {
            "text/plain": [
              "dtype('float64')"
            ]
          },
          "execution_count": 21,
          "metadata": {},
          "output_type": "execute_result"
        }
      ],
      "source": [
        "z.dtype"
      ]
    },
    {
      "cell_type": "markdown",
      "metadata": {
        "id": "ycvJ_BLHJTPn"
      },
      "source": [
        "### Task 10. How is the dataset indexed?"
      ]
    },
    {
      "cell_type": "code",
      "execution_count": 61,
      "metadata": {
        "collapsed": true,
        "id": "nyymdIvuJTPo"
      },
      "outputs": [
        {
          "data": {
            "text/plain": [
              "RangeIndex(start=0, stop=414, step=1)"
            ]
          },
          "execution_count": 61,
          "metadata": {},
          "output_type": "execute_result"
        }
      ],
      "source": [
        "df1.index"
      ]
    },
    {
      "cell_type": "markdown",
      "metadata": {
        "id": "_3odsF2zJTPo"
      },
      "source": [
        "### Task 11. What is the product name of the 19th observation?"
      ]
    },
    {
      "cell_type": "code",
      "execution_count": 60,
      "metadata": {
        "collapsed": true,
        "id": "HgU_6-WwJTPo"
      },
      "outputs": [
        {
          "data": {
            "text/plain": [
              "2012.667"
            ]
          },
          "execution_count": 60,
          "metadata": {},
          "output_type": "execute_result"
        }
      ],
      "source": [
        "df1.iloc[19,1]"
      ]
    },
    {
      "cell_type": "markdown",
      "metadata": {
        "id": "BwKpfzsfNjaH"
      },
      "source": [
        "### Task 12. How many columns in the dataset tend have null values?"
      ]
    },
    {
      "cell_type": "code",
      "execution_count": 59,
      "metadata": {
        "id": "ork_Gt6hN2aL"
      },
      "outputs": [
        {
          "name": "stdout",
          "output_type": "stream",
          "text": [
            "0\n"
          ]
        }
      ],
      "source": [
        "x=len(df1)\n",
        "c=0\n",
        "for i in range(col):\n",
        "    for j in range(x):\n",
        "        if df1.isnull().iloc[i,j] is True:\n",
        "            c=c+1\n",
        "        break\n",
        "print(c)"
      ]
    },
    {
      "cell_type": "markdown",
      "metadata": {
        "id": "HQE2BIsJN29w"
      },
      "source": [
        "### Task 13. Find the number of null values present under each column?"
      ]
    },
    {
      "cell_type": "code",
      "execution_count": 58,
      "metadata": {
        "id": "RnKp96JLOELp"
      },
      "outputs": [
        {
          "data": {
            "text/plain": [
              "No                                        0\n",
              "X1 transaction date                       0\n",
              "X2 house age                              0\n",
              "X3 distance to the nearest MRT station    0\n",
              "X4 number of convenience stores           0\n",
              "X5 latitude                               0\n",
              "X6 longitude                              0\n",
              "Y house price of unit area                0\n",
              "dtype: int64"
            ]
          },
          "execution_count": 58,
          "metadata": {},
          "output_type": "execute_result"
        }
      ],
      "source": [
        "df1.isnull().sum()"
      ]
    },
    {
      "cell_type": "markdown",
      "metadata": {
        "id": "tVRfno_aOEif"
      },
      "source": [
        "### Task 14. Create a dictionary with keys to be column names in the dataset and values to number of values under each column. Print the dictionary by iterating through its elements using a for loop.  "
      ]
    },
    {
      "cell_type": "code",
      "execution_count": 72,
      "metadata": {
        "id": "s2oTpnGsOh6b"
      },
      "outputs": [
        {
          "data": {
            "text/plain": [
              "24.98034"
            ]
          },
          "execution_count": 72,
          "metadata": {},
          "output_type": "execute_result"
        }
      ],
      "source": [
        "dict={'rollno':[1,2,3],'name':['kani','dhanu','teja'],'sport':['ck','fb','bb']}\n",
        "keys = dict.items()\n",
        "print(keys)"
      ]
    },
    {
      "cell_type": "markdown",
      "metadata": {
        "id": "QKmg4r6hOiZ4"
      },
      "source": [
        "### Task 15. Display the values associated with all columns from row 108 to 208?"
      ]
    },
    {
      "cell_type": "code",
      "execution_count": 48,
      "metadata": {
        "id": "eUpIiNHAQfM4"
      },
      "outputs": [
        {
          "data": {
            "text/html": [
              "<div>\n",
              "<style scoped>\n",
              "    .dataframe tbody tr th:only-of-type {\n",
              "        vertical-align: middle;\n",
              "    }\n",
              "\n",
              "    .dataframe tbody tr th {\n",
              "        vertical-align: top;\n",
              "    }\n",
              "\n",
              "    .dataframe thead th {\n",
              "        text-align: right;\n",
              "    }\n",
              "</style>\n",
              "<table border=\"1\" class=\"dataframe\">\n",
              "  <thead>\n",
              "    <tr style=\"text-align: right;\">\n",
              "      <th></th>\n",
              "      <th>No</th>\n",
              "      <th>X1 transaction date</th>\n",
              "      <th>X2 house age</th>\n",
              "      <th>X3 distance to the nearest MRT station</th>\n",
              "      <th>X4 number of convenience stores</th>\n",
              "      <th>X5 latitude</th>\n",
              "      <th>X6 longitude</th>\n",
              "      <th>Y house price of unit area</th>\n",
              "    </tr>\n",
              "  </thead>\n",
              "  <tbody>\n",
              "    <tr>\n",
              "      <th>108</th>\n",
              "      <td>109</td>\n",
              "      <td>2013.417</td>\n",
              "      <td>31.4</td>\n",
              "      <td>592.5006</td>\n",
              "      <td>2</td>\n",
              "      <td>24.97260</td>\n",
              "      <td>121.53561</td>\n",
              "      <td>34.1</td>\n",
              "    </tr>\n",
              "    <tr>\n",
              "      <th>109</th>\n",
              "      <td>110</td>\n",
              "      <td>2013.583</td>\n",
              "      <td>4.0</td>\n",
              "      <td>2147.3760</td>\n",
              "      <td>3</td>\n",
              "      <td>24.96299</td>\n",
              "      <td>121.51284</td>\n",
              "      <td>28.4</td>\n",
              "    </tr>\n",
              "    <tr>\n",
              "      <th>110</th>\n",
              "      <td>111</td>\n",
              "      <td>2013.083</td>\n",
              "      <td>8.1</td>\n",
              "      <td>104.8101</td>\n",
              "      <td>5</td>\n",
              "      <td>24.96674</td>\n",
              "      <td>121.54067</td>\n",
              "      <td>51.6</td>\n",
              "    </tr>\n",
              "    <tr>\n",
              "      <th>111</th>\n",
              "      <td>112</td>\n",
              "      <td>2013.583</td>\n",
              "      <td>33.3</td>\n",
              "      <td>196.6172</td>\n",
              "      <td>7</td>\n",
              "      <td>24.97701</td>\n",
              "      <td>121.54224</td>\n",
              "      <td>39.4</td>\n",
              "    </tr>\n",
              "    <tr>\n",
              "      <th>112</th>\n",
              "      <td>113</td>\n",
              "      <td>2013.417</td>\n",
              "      <td>9.9</td>\n",
              "      <td>2102.4270</td>\n",
              "      <td>3</td>\n",
              "      <td>24.96044</td>\n",
              "      <td>121.51462</td>\n",
              "      <td>23.1</td>\n",
              "    </tr>\n",
              "    <tr>\n",
              "      <th>...</th>\n",
              "      <td>...</td>\n",
              "      <td>...</td>\n",
              "      <td>...</td>\n",
              "      <td>...</td>\n",
              "      <td>...</td>\n",
              "      <td>...</td>\n",
              "      <td>...</td>\n",
              "      <td>...</td>\n",
              "    </tr>\n",
              "    <tr>\n",
              "      <th>203</th>\n",
              "      <td>204</td>\n",
              "      <td>2012.667</td>\n",
              "      <td>15.6</td>\n",
              "      <td>289.3248</td>\n",
              "      <td>5</td>\n",
              "      <td>24.98203</td>\n",
              "      <td>121.54348</td>\n",
              "      <td>46.1</td>\n",
              "    </tr>\n",
              "    <tr>\n",
              "      <th>204</th>\n",
              "      <td>205</td>\n",
              "      <td>2013.000</td>\n",
              "      <td>18.0</td>\n",
              "      <td>1414.8370</td>\n",
              "      <td>1</td>\n",
              "      <td>24.95182</td>\n",
              "      <td>121.54887</td>\n",
              "      <td>26.6</td>\n",
              "    </tr>\n",
              "    <tr>\n",
              "      <th>205</th>\n",
              "      <td>206</td>\n",
              "      <td>2013.083</td>\n",
              "      <td>12.8</td>\n",
              "      <td>1449.7220</td>\n",
              "      <td>3</td>\n",
              "      <td>24.97289</td>\n",
              "      <td>121.51728</td>\n",
              "      <td>21.4</td>\n",
              "    </tr>\n",
              "    <tr>\n",
              "      <th>206</th>\n",
              "      <td>207</td>\n",
              "      <td>2013.250</td>\n",
              "      <td>22.2</td>\n",
              "      <td>379.5575</td>\n",
              "      <td>10</td>\n",
              "      <td>24.98343</td>\n",
              "      <td>121.53762</td>\n",
              "      <td>44.0</td>\n",
              "    </tr>\n",
              "    <tr>\n",
              "      <th>207</th>\n",
              "      <td>208</td>\n",
              "      <td>2013.083</td>\n",
              "      <td>38.5</td>\n",
              "      <td>665.0636</td>\n",
              "      <td>3</td>\n",
              "      <td>24.97503</td>\n",
              "      <td>121.53692</td>\n",
              "      <td>34.2</td>\n",
              "    </tr>\n",
              "  </tbody>\n",
              "</table>\n",
              "<p>100 rows × 8 columns</p>\n",
              "</div>"
            ],
            "text/plain": [
              "      No  X1 transaction date  X2 house age  \\\n",
              "108  109             2013.417          31.4   \n",
              "109  110             2013.583           4.0   \n",
              "110  111             2013.083           8.1   \n",
              "111  112             2013.583          33.3   \n",
              "112  113             2013.417           9.9   \n",
              "..   ...                  ...           ...   \n",
              "203  204             2012.667          15.6   \n",
              "204  205             2013.000          18.0   \n",
              "205  206             2013.083          12.8   \n",
              "206  207             2013.250          22.2   \n",
              "207  208             2013.083          38.5   \n",
              "\n",
              "     X3 distance to the nearest MRT station  X4 number of convenience stores  \\\n",
              "108                                592.5006                                2   \n",
              "109                               2147.3760                                3   \n",
              "110                                104.8101                                5   \n",
              "111                                196.6172                                7   \n",
              "112                               2102.4270                                3   \n",
              "..                                      ...                              ...   \n",
              "203                                289.3248                                5   \n",
              "204                               1414.8370                                1   \n",
              "205                               1449.7220                                3   \n",
              "206                                379.5575                               10   \n",
              "207                                665.0636                                3   \n",
              "\n",
              "     X5 latitude  X6 longitude  Y house price of unit area  \n",
              "108     24.97260     121.53561                        34.1  \n",
              "109     24.96299     121.51284                        28.4  \n",
              "110     24.96674     121.54067                        51.6  \n",
              "111     24.97701     121.54224                        39.4  \n",
              "112     24.96044     121.51462                        23.1  \n",
              "..           ...           ...                         ...  \n",
              "203     24.98203     121.54348                        46.1  \n",
              "204     24.95182     121.54887                        26.6  \n",
              "205     24.97289     121.51728                        21.4  \n",
              "206     24.98343     121.53762                        44.0  \n",
              "207     24.97503     121.53692                        34.2  \n",
              "\n",
              "[100 rows x 8 columns]"
            ]
          },
          "execution_count": 48,
          "metadata": {},
          "output_type": "execute_result"
        }
      ],
      "source": [
        "df1.iloc[108:208]"
      ]
    }
  ],
  "metadata": {
    "anaconda-cloud": {},
    "colab": {
      "provenance": []
    },
    "kernelspec": {
      "display_name": "Python 3.9.12 ('base')",
      "language": "python",
      "name": "python3"
    },
    "language_info": {
      "codemirror_mode": {
        "name": "ipython",
        "version": 3
      },
      "file_extension": ".py",
      "mimetype": "text/x-python",
      "name": "python",
      "nbconvert_exporter": "python",
      "pygments_lexer": "ipython3",
      "version": "3.9.12"
    },
    "vscode": {
      "interpreter": {
        "hash": "b6d7018392264f02ab72b372fa057ea9b25f9f0b7a165a2d41db3bd2247b3ad5"
      }
    }
  },
  "nbformat": 4,
  "nbformat_minor": 0
}
